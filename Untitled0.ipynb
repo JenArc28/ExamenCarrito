{
  "nbformat": 4,
  "nbformat_minor": 0,
  "metadata": {
    "colab": {
      "provenance": [],
      "authorship_tag": "ABX9TyMCpQJYG4O04kAro7xUJg/6",
      "include_colab_link": true
    },
    "kernelspec": {
      "name": "python3",
      "display_name": "Python 3"
    },
    "language_info": {
      "name": "python"
    }
  },
  "cells": [
    {
      "cell_type": "markdown",
      "metadata": {
        "id": "view-in-github",
        "colab_type": "text"
      },
      "source": [
        "<a href=\"https://colab.research.google.com/github/JenArc28/ExamenCarrito/blob/main/Untitled0.ipynb\" target=\"_parent\"><img src=\"https://colab.research.google.com/assets/colab-badge.svg\" alt=\"Open In Colab\"/></a>"
      ]
    },
    {
      "cell_type": "code",
      "execution_count": null,
      "metadata": {
        "id": "_VNVsey8lsco",
        "colab": {
          "base_uri": "https://localhost:8080/"
        },
        "outputId": "6063ec7e-c46c-42e5-d29b-c45b1d3e90a1"
      },
      "outputs": [
        {
          "output_type": "stream",
          "name": "stdout",
          "text": [
            "Archivo: I_C5.pdf - Número de páginas: 3\n",
            "Archivo de texto guardado: I_C5.txt\n",
            "------------------------------------------------------------\n",
            "Archivo: I_C8.pdf - Número de páginas: 2\n",
            "Archivo de texto guardado: I_C8.txt\n",
            "------------------------------------------------------------\n",
            "Archivo: I_C1.pdf - Número de páginas: 1\n",
            "Archivo de texto guardado: I_C1.txt\n",
            "------------------------------------------------------------\n",
            "Archivo: I_C2.pdf - Número de páginas: 1\n",
            "Archivo de texto guardado: I_C2.txt\n",
            "------------------------------------------------------------\n",
            "Archivo: I_C7.pdf - Número de páginas: 2\n",
            "Archivo de texto guardado: I_C7.txt\n",
            "------------------------------------------------------------\n",
            "Archivo: I_C4.pdf - Número de páginas: 2\n",
            "Archivo de texto guardado: I_C4.txt\n",
            "------------------------------------------------------------\n",
            "Archivo: I_C6.pdf - Número de páginas: 3\n",
            "Archivo de texto guardado: I_C6.txt\n",
            "------------------------------------------------------------\n",
            "Archivo: I_C10.pdf - Número de páginas: 1\n",
            "Archivo de texto guardado: I_C10.txt\n",
            "------------------------------------------------------------\n",
            "Archivo: I_C9.pdf - Número de páginas: 2\n",
            "Archivo de texto guardado: I_C9.txt\n",
            "------------------------------------------------------------\n",
            "Archivo: I_C3.pdf - Número de páginas: 2\n",
            "Archivo de texto guardado: I_C3.txt\n",
            "------------------------------------------------------------\n",
            "Archivo: E_C9.pdf - Número de páginas: 4\n",
            "Archivo de texto guardado: E_C9.txt\n",
            "------------------------------------------------------------\n",
            "Archivo: E_C3.pdf - Número de páginas: 2\n",
            "Archivo de texto guardado: E_C3.txt\n",
            "------------------------------------------------------------\n",
            "Archivo: E_C1.pdf - Número de páginas: 4\n",
            "Archivo de texto guardado: E_C1.txt\n",
            "------------------------------------------------------------\n",
            "Archivo: E_C4.pdf - Número de páginas: 2\n",
            "Archivo de texto guardado: E_C4.txt\n",
            "------------------------------------------------------------\n",
            "Archivo: E_C10.pdf - Número de páginas: 3\n",
            "Archivo de texto guardado: E_C10.txt\n",
            "------------------------------------------------------------\n",
            "Archivo: E_C8.pdf - Número de páginas: 3\n",
            "Archivo de texto guardado: E_C8.txt\n",
            "------------------------------------------------------------\n",
            "Archivo: E_C5.pdf - Número de páginas: 2\n",
            "Archivo de texto guardado: E_C5.txt\n",
            "------------------------------------------------------------\n",
            "Archivo: E_C2.pdf - Número de páginas: 2\n",
            "Archivo de texto guardado: E_C2.txt\n",
            "------------------------------------------------------------\n",
            "Archivo: E_C6.pdf - Número de páginas: 2\n",
            "Archivo de texto guardado: E_C6.txt\n",
            "------------------------------------------------------------\n",
            "Archivo: E_C7.pdf - Número de páginas: 2\n",
            "Archivo de texto guardado: E_C7.txt\n",
            "------------------------------------------------------------\n"
          ]
        }
      ],
      "source": [
        "import os\n",
        "from PyPDF2 import PdfReader\n",
        "\n",
        "folder_path = '/content/drive/MyDrive/Python/Servicio/PDF_CV' #folder que contiene los archivos pdf\n",
        "output_folder = '/content/drive/MyDrive/Python/Servicio/TXT_CV' #folder en donde se van a guardar los archivos convertidos a txt\n",
        "\n",
        "pdf_files = [file for file in os.listdir(folder_path) if file.endswith('.pdf')]\n",
        "\n",
        "if not os.path.exists(output_folder):\n",
        "    os.makedirs(output_folder)\n",
        "\n",
        "for file in pdf_files:\n",
        "    file_path = os.path.join(folder_path, file)\n",
        "    with open(file_path, 'rb') as f:\n",
        "        pdf_reader = PdfReader(f)\n",
        "        num_pages = len(pdf_reader.pages)\n",
        "        print(f\"Archivo: {file} - Número de páginas: {num_pages}\")\n",
        "\n",
        "        output_file = os.path.splitext(file)[0] + '.txt'\n",
        "        output_path = os.path.join(output_folder, output_file)\n",
        "\n",
        "        with open(output_path, 'w') as txt_file:\n",
        "            for page in pdf_reader.pages:\n",
        "                pdf_content = page.extract_text()\n",
        "                txt_file.write(pdf_content)\n",
        "\n",
        "        print(f\"Archivo de texto guardado: {output_file}\")\n",
        "        print('---' * 20)\n"
      ]
    },
    {
      "cell_type": "markdown",
      "source": [],
      "metadata": {
        "id": "4_qbU7CClzER"
      }
    }
  ]
}